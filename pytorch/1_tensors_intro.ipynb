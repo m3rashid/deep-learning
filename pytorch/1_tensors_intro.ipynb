{
 "cells": [
  {
   "cell_type": "code",
   "execution_count": null,
   "metadata": {},
   "outputs": [],
   "source": [
    "import torch"
   ]
  },
  {
   "cell_type": "code",
   "execution_count": null,
   "metadata": {},
   "outputs": [],
   "source": [
    "device = 'cuda' if torch.cuda.is_available() else 'cpu'"
   ]
  },
  {
   "cell_type": "code",
   "execution_count": null,
   "metadata": {},
   "outputs": [],
   "source": [
    "my_tensor = torch.tensor([[1, 2, 3], [4, 5, 6]],\n",
    "                         dtype=torch.float32,\n",
    "                         device=device,\n",
    "                         requires_grad=True)"
   ]
  },
  {
   "cell_type": "code",
   "execution_count": null,
   "metadata": {},
   "outputs": [],
   "source": [
    "# print(my_tensor)\n",
    "# print(my_tensor.dtype)\n",
    "# print(my_tensor.device)\n",
    "# print(my_tensor.shape)\n",
    "# print(my_tensor.requires_grad)"
   ]
  },
  {
   "cell_type": "code",
   "execution_count": null,
   "metadata": {},
   "outputs": [],
   "source": [
    "x = torch.empty(size=(3, 3))\n",
    "\n",
    "# tensor with 0 as values\n",
    "y = torch.zeros((3, 3))\n",
    "\n",
    "# tensor with random values\n",
    "z = torch.rand((3, 3))\n",
    "\n",
    "# tensor with all values as 1\n",
    "a = torch.ones((3, 3))\n",
    "\n",
    "# tensor as identity matrix\n",
    "b = torch.eye(4, 4)\n",
    "\n",
    "# tensor created just like python range function\n",
    "c = torch.arange(start=0, end=5, step=1)\n",
    "\n",
    "#\n",
    "d = torch.linspace(start=0.1, end=1, steps=10)\n",
    "\n",
    "# empty tensor with given mean and standard deviation\n",
    "e = torch.empty(size=(1, 5)).normal_(mean=0, std=1)\n",
    "\n",
    "# same as torch.rand but with lower and upper bounds\n",
    "f = torch.empty(size=(1, 5)).uniform_(0, 1)\n",
    "\n",
    "# tensor as a diagonal matrix\n",
    "g = torch.diag(torch.ones(3))\n",
    "\n",
    "h = torch.arange(4)\n",
    "\n",
    "# type conversion to bool type\n",
    "print(h.bool())\n",
    "\n",
    "# convert to int16 type\n",
    "print(h.short())\n",
    "\n",
    "# convert to int64 type\n",
    "print(h.long())\n",
    "\n",
    "# convert to float16\n",
    "print(h.half())\n",
    "\n",
    "# convert to float32\n",
    "print(h.float())\n",
    "\n",
    "# convert to float64\n",
    "print(h.double())"
   ]
  }
 ],
 "metadata": {
  "language_info": {
   "name": "python"
  },
  "orig_nbformat": 4
 },
 "nbformat": 4,
 "nbformat_minor": 2
}
