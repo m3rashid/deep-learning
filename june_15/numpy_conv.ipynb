{
 "cells": [
  {
   "cell_type": "code",
   "execution_count": null,
   "metadata": {},
   "outputs": [],
   "source": [
    "import numpy as np\n",
    "import torch"
   ]
  },
  {
   "cell_type": "code",
   "execution_count": null,
   "metadata": {},
   "outputs": [],
   "source": [
    "# convert numpy array back to torch tensor\n",
    "numpy_arr = np.zeros((5, 5))\n",
    "tensor = torch.from_numpy(numpy_arr)\n",
    "print(tensor)\n",
    "\n",
    "# convert back to numpy array\n",
    "arr = tensor.numpy()"
   ]
  }
 ],
 "metadata": {
  "language_info": {
   "name": "python"
  },
  "orig_nbformat": 4
 },
 "nbformat": 4,
 "nbformat_minor": 2
}
